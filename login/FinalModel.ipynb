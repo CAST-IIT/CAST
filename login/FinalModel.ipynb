{
 "cells": [
  {
   "cell_type": "code",
   "execution_count": null,
   "metadata": {},
   "outputs": [
    {
     "name": "stdout",
     "output_type": "stream",
     "text": [
      "flopy is installed in D:\\Programme\\Anaconda\\lib\\site-packages\\flopy\n"
     ]
    }
   ],
   "source": [
    "import numpy as np\n",
    "import matplotlib as mpl\n",
    "import matplotlib.pyplot as plt\n",
    "import flopy"
   ]
  },
  {
   "cell_type": "code",
   "execution_count": 2,
   "metadata": {},
   "outputs": [],
   "source": [
    "#Domain\n",
    "\n",
    "Lx = 2500\n",
    "Ly = 2\n",
    "ztop = 0\n",
    "zbot = -1\n",
    "ncol = 250\n",
    "nrow = 10\n",
    "nlay = 1\n",
    "delx = Lx/ncol\n",
    "dely = Ly/nrow\n",
    "delv = (ztop-zbot)/nlay"
   ]
  },
  {
   "cell_type": "code",
   "execution_count": 3,
   "metadata": {},
   "outputs": [],
   "source": [
    "#Parameter\n",
    "\n",
    "prsity = 0.3\n",
    "al = 5.\n",
    "trpt = 0.002\n",
    "Gamma = 3.5\n",
    "Cd = 5.\n",
    "Ca = -8.\n",
    "h1 = 10.\n",
    "h2 = 0\n",
    "hk = 86.4\n",
    "perlen = 1825"
   ]
  },
  {
   "cell_type": "code",
   "execution_count": 4,
   "metadata": {},
   "outputs": [
    {
     "data": {
      "text/plain": [
       "(True, [])"
      ]
     },
     "execution_count": 4,
     "metadata": {},
     "output_type": "execute_result"
    }
   ],
   "source": [
    "#Flow Calculation\n",
    "\n",
    "mf = flopy.modflow.Modflow(modelname='T02_mf')\n",
    "dis = flopy.modflow.ModflowDis(mf, nlay=nlay, nrow=nrow, ncol=ncol, delr=delx, delc=dely,top=0, botm=[0-delv], perlen=perlen)\n",
    "\n",
    "ibound=np.ones((nlay, nrow, ncol), dtype=np.int32)\n",
    "ibound[:,:,0] = -1\n",
    "ibound[:,:,-1] = -1\n",
    "strt=np.ones((nlay, nrow, ncol), dtype=np.float32)\n",
    "strt[:,:,0] = h1\n",
    "strt[:,:,-1] = h2\n",
    "\n",
    "bas = flopy.modflow.ModflowBas(mf, ibound=ibound, strt=strt)\n",
    "lpf = flopy.modflow.ModflowLpf(mf, hk=hk, laytyp=0)\n",
    "gmg = flopy.modflow.ModflowGmg(mf)\n",
    "lmt = flopy.modflow.ModflowLmt(mf)\n",
    "    \n",
    "mf.write_input()\n",
    "mf.run_model(silent=True)"
   ]
  },
  {
   "cell_type": "code",
   "execution_count": 5,
   "metadata": {},
   "outputs": [
    {
     "data": {
      "text/plain": [
       "(False, [])"
      ]
     },
     "execution_count": 5,
     "metadata": {},
     "output_type": "execute_result"
    }
   ],
   "source": [
    "#Transport Calculation\n",
    "\n",
    "mt = flopy.mt3d.Mt3dms(modelname='T02_mt', exe_name='mt3dms5b', modflowmodel=mf)\n",
    "\n",
    "icbund = np.ones((nlay, nrow, ncol), dtype=np.int32)\n",
    "icbund[:,:,0] = -1           #first column\n",
    "icbund[:,:,-1] = -1          #last column\n",
    "icbund[:,0,:] = -1           #first row\n",
    "icbund[:,0,0] = -1           #first cell\n",
    "sconc = np.zeros((nlay, nrow,ncol), dtype=np.float32)\n",
    "sconc[:,:,0] = (Gamma*Cd)+2*abs(Ca)\n",
    "sconc[:,:,-1] = Ca+2*abs(Ca)\n",
    "sconc[:,0,:] = Ca+2*abs(Ca)\n",
    "sconc[:,0,0] = 2*abs(Ca)\n",
    "\n",
    "btn = flopy.mt3d.Mt3dBtn(mt, icbund=icbund, prsity=prsity, sconc=sconc)\n",
    "adv = flopy.mt3d.Mt3dAdv(mt, mixelm=-1)\n",
    "dsp = flopy.mt3d.Mt3dDsp(mt, al=al, trpt=trpt)\n",
    "gcg = flopy.mt3d.Mt3dGcg(mt)\n",
    "ssm = flopy.mt3d.Mt3dSsm(mt)\n",
    "\n",
    "mt.write_input()\n",
    "mt.run_model(silent=True)"
   ]
  },
  {
   "cell_type": "code",
   "execution_count": 6,
   "metadata": {},
   "outputs": [],
   "source": [
    "ucnobj = flopy.utils.UcnFile('MT3D001.UCN')\n",
    "conc = ucnobj.get_alldata()\n",
    "mvt = mt.load_mas('MT3D001.MAS')"
   ]
  },
  {
   "cell_type": "code",
   "execution_count": 7,
   "metadata": {},
   "outputs": [
    {
     "data": {
      "text/plain": [
       "Text(0.5, 1.0, 'ULTIMATE')"
      ]
     },
     "execution_count": 7,
     "metadata": {},
     "output_type": "execute_result"
    },
    {
     "data": {
      "image/png": "[encoded data removed]",
      "text/plain": [
       "<Figure size 720x720 with 1 Axes>"
      ]
     },
     "metadata": {
      "needs_background": "light"
     },
     "output_type": "display_data"
    }
   ],
   "source": [
    "#Plot\n",
    "\n",
    "plt.figure(figsize=(10,10))\n",
    "mm = flopy.plot.map.PlotMapView(model=mf)\n",
    "mm.plot_grid(color='.5', alpha=0.2)\n",
    "conc = conc[0, :, :]       \n",
    "cs = mm.contour_array(conc, levels=[16.], colors='k')\n",
    "mm.plot_ibound()\n",
    "plt.clabel(cs)\n",
    "plt.xlabel('DISTANCE ALONG X-AXIS, IN METERS')\n",
    "plt.ylabel('DISTANCE ALONG Y-AXIS, IN METERS')\n",
    "plt.title('ULTIMATE')"
   ]
  },
  {
   "cell_type": "code",
   "execution_count": 8,
   "metadata": {},
   "outputs": [
    {
     "data": {
      "text/plain": [
       "220.34085366358602"
      ]
     },
     "execution_count": 8,
     "metadata": {},
     "output_type": "execute_result"
    }
   ],
   "source": [
    "#Plume length\n",
    "\n",
    "p1 = cs.collections[0].get_paths()[0]\n",
    "coor_p1 = p1.vertices\n",
    "coor_p1[:,0]\n",
    "np.max(coor_p1[:,0])"
   ]
  },
  {
   "cell_type": "code",
   "execution_count": null,
   "metadata": {},
   "outputs": [],
   "source": []
  }
 ],
 "metadata": {
  "kernelspec": {
   "display_name": "Python 3",
   "language": "python",
   "name": "python3"
  },
  "language_info": {
   "codemirror_mode": {
    "name": "ipython",
    "version": 3
   },
   "file_extension": ".py",
   "mimetype": "text/x-python",
   "name": "python",
   "nbconvert_exporter": "python",
   "pygments_lexer": "ipython3",
   "version": "3.7.3"
  },
  "latex_envs": {
   "LaTeX_envs_menu_present": true,
   "autoclose": false,
   "autocomplete": true,
   "bibliofile": "biblio.bib",
   "cite_by": "apalike",
   "current_citInitial": 1.0,
   "eqLabelWithNumbers": true,
   "eqNumInitial": 1.0,
   "hotkeys": {
    "equation": "Ctrl-E",
    "itemize": "Ctrl-I"
   },
   "labels_anchors": false,
   "latex_user_defs": false,
   "report_style_numbering": false,
   "user_envs_cfg": false
  },
  "varInspector": {
   "cols": {
    "lenName": 16.0,
    "lenType": 16.0,
    "lenVar": 40.0
   },
   "kernels_config": {
    "python": {
     "delete_cmd_postfix": "",
     "delete_cmd_prefix": "del ",
     "library": "var_list.py",
     "varRefreshCmd": "print(var_dic_list())"
    },
    "r": {
     "delete_cmd_postfix": ") ",
     "delete_cmd_prefix": "rm(",
     "library": "var_list.r",
     "varRefreshCmd": "cat(var_dic_list()) "
    }
   },
   "types_to_exclude": [
    "module",
    "function",
    "builtin_function_or_method",
    "instance",
    "_Feature"
   ],
   "window_display": false
  }
 },
 "nbformat": 4,
 "nbformat_minor": 2
}
